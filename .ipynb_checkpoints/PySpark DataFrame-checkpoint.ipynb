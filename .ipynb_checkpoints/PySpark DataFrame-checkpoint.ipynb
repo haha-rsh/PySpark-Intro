{
 "cells": [
  {
   "cell_type": "code",
   "execution_count": 40,
   "id": "13ae546c-2e30-41ba-bc76-853badfc7d5d",
   "metadata": {},
   "outputs": [],
   "source": [
    "### install pyspark, pandas"
   ]
  },
  {
   "cell_type": "code",
   "execution_count": 25,
   "id": "c2784beb-7e24-4cc7-8b04-78e448752674",
   "metadata": {},
   "outputs": [],
   "source": [
    "import pyspark"
   ]
  },
  {
   "cell_type": "code",
   "execution_count": 26,
   "id": "cc99c7c2-1a27-4d52-ac5b-f6ebb21e23a2",
   "metadata": {},
   "outputs": [],
   "source": [
    "import pandas as pd\n",
    "df_pandas = pd.read_csv('test1.csv')"
   ]
  },
  {
   "cell_type": "code",
   "execution_count": 27,
   "id": "ebd8ded3-87cf-46a3-af63-c7d974dbe7f7",
   "metadata": {},
   "outputs": [
    {
     "data": {
      "text/html": [
       "<div>\n",
       "<style scoped>\n",
       "    .dataframe tbody tr th:only-of-type {\n",
       "        vertical-align: middle;\n",
       "    }\n",
       "\n",
       "    .dataframe tbody tr th {\n",
       "        vertical-align: top;\n",
       "    }\n",
       "\n",
       "    .dataframe thead th {\n",
       "        text-align: right;\n",
       "    }\n",
       "</style>\n",
       "<table border=\"1\" class=\"dataframe\">\n",
       "  <thead>\n",
       "    <tr style=\"text-align: right;\">\n",
       "      <th></th>\n",
       "      <th>name</th>\n",
       "      <th>age</th>\n",
       "      <th>experience</th>\n",
       "    </tr>\n",
       "  </thead>\n",
       "  <tbody>\n",
       "    <tr>\n",
       "      <th>0</th>\n",
       "      <td>harsh</td>\n",
       "      <td>20</td>\n",
       "      <td>5</td>\n",
       "    </tr>\n",
       "    <tr>\n",
       "      <th>1</th>\n",
       "      <td>krish</td>\n",
       "      <td>30</td>\n",
       "      <td>10</td>\n",
       "    </tr>\n",
       "    <tr>\n",
       "      <th>2</th>\n",
       "      <td>naya ladka</td>\n",
       "      <td>10</td>\n",
       "      <td>2</td>\n",
       "    </tr>\n",
       "  </tbody>\n",
       "</table>\n",
       "</div>"
      ],
      "text/plain": [
       "         name  age  experience\n",
       "0       harsh   20           5\n",
       "1       krish   30          10\n",
       "2  naya ladka   10           2"
      ]
     },
     "execution_count": 27,
     "metadata": {},
     "output_type": "execute_result"
    }
   ],
   "source": [
    "df_pandas"
   ]
  },
  {
   "cell_type": "code",
   "execution_count": 28,
   "id": "0c66a042-a3a9-4f85-b03c-29d00f8111c6",
   "metadata": {},
   "outputs": [
    {
     "data": {
      "text/plain": [
       "pandas.core.frame.DataFrame"
      ]
     },
     "execution_count": 28,
     "metadata": {},
     "output_type": "execute_result"
    }
   ],
   "source": [
    "type(df_pandas)"
   ]
  },
  {
   "cell_type": "code",
   "execution_count": 29,
   "id": "7d7cb6a6-f33f-4199-a909-f96403926981",
   "metadata": {},
   "outputs": [],
   "source": [
    "from pyspark.sql import SparkSession"
   ]
  },
  {
   "cell_type": "code",
   "execution_count": 30,
   "id": "7366042c-c6a2-4649-ae48-2e454e2b7175",
   "metadata": {},
   "outputs": [],
   "source": [
    "spark = SparkSession.builder.appName('Practice').getOrCreate()"
   ]
  },
  {
   "cell_type": "code",
   "execution_count": 31,
   "id": "ee815699-b41d-415f-9031-497ede25afb6",
   "metadata": {},
   "outputs": [
    {
     "data": {
      "text/html": [
       "\n",
       "            <div>\n",
       "                <p><b>SparkSession - in-memory</b></p>\n",
       "                \n",
       "        <div>\n",
       "            <p><b>SparkContext</b></p>\n",
       "\n",
       "            <p><a href=\"http://192.168.1.26:4040\">Spark UI</a></p>\n",
       "\n",
       "            <dl>\n",
       "              <dt>Version</dt>\n",
       "                <dd><code>v3.5.1</code></dd>\n",
       "              <dt>Master</dt>\n",
       "                <dd><code>local[*]</code></dd>\n",
       "              <dt>AppName</dt>\n",
       "                <dd><code>Practice</code></dd>\n",
       "            </dl>\n",
       "        </div>\n",
       "        \n",
       "            </div>\n",
       "        "
      ],
      "text/plain": [
       "<pyspark.sql.session.SparkSession at 0x29caf99b5c0>"
      ]
     },
     "execution_count": 31,
     "metadata": {},
     "output_type": "execute_result"
    }
   ],
   "source": [
    "spark"
   ]
  },
  {
   "cell_type": "code",
   "execution_count": 32,
   "id": "8f8d028b-7a2a-4efb-9b80-e255358dfa8b",
   "metadata": {},
   "outputs": [],
   "source": [
    "df_pyspark = spark.read.csv('test1.csv')"
   ]
  },
  {
   "cell_type": "code",
   "execution_count": 33,
   "id": "01ba81bc-e809-4b41-b38a-1fee74343f77",
   "metadata": {},
   "outputs": [
    {
     "data": {
      "text/plain": [
       "DataFrame[_c0: string, _c1: string, _c2: string]"
      ]
     },
     "execution_count": 33,
     "metadata": {},
     "output_type": "execute_result"
    }
   ],
   "source": [
    "df_pyspark"
   ]
  },
  {
   "cell_type": "code",
   "execution_count": 34,
   "id": "6124f65a-ea66-4c0a-a0d6-f9a43b066d50",
   "metadata": {},
   "outputs": [
    {
     "name": "stdout",
     "output_type": "stream",
     "text": [
      "+----------+---+----------+\n",
      "|       _c0|_c1|       _c2|\n",
      "+----------+---+----------+\n",
      "|      name|age|experience|\n",
      "|     harsh| 20|         5|\n",
      "|     krish| 30|        10|\n",
      "|naya ladka| 10|         2|\n",
      "+----------+---+----------+\n",
      "\n"
     ]
    }
   ],
   "source": [
    "df_pyspark.show()"
   ]
  },
  {
   "cell_type": "code",
   "execution_count": 41,
   "id": "7cb8d703-b086-44e9-9fab-5ad41c085694",
   "metadata": {},
   "outputs": [],
   "source": [
    "df_pyspark = spark.read.option('header','true').csv('test1.csv',inferSchema=True)"
   ]
  },
  {
   "cell_type": "code",
   "execution_count": 36,
   "id": "2b824927-1e88-44ac-8aa7-fb5bf61ce9f3",
   "metadata": {},
   "outputs": [
    {
     "name": "stdout",
     "output_type": "stream",
     "text": [
      "+----------+---+----------+\n",
      "|      name|age|experience|\n",
      "+----------+---+----------+\n",
      "|     harsh| 20|         5|\n",
      "|     krish| 30|        10|\n",
      "|naya ladka| 10|         2|\n",
      "+----------+---+----------+\n",
      "\n"
     ]
    }
   ],
   "source": [
    "df_pyspark.show()"
   ]
  },
  {
   "cell_type": "code",
   "execution_count": 37,
   "id": "36e3e88c-c639-48a3-af72-4d582b67a72e",
   "metadata": {},
   "outputs": [
    {
     "data": {
      "text/plain": [
       "pyspark.sql.dataframe.DataFrame"
      ]
     },
     "execution_count": 37,
     "metadata": {},
     "output_type": "execute_result"
    }
   ],
   "source": [
    "type(df_pyspark)"
   ]
  },
  {
   "cell_type": "code",
   "execution_count": 38,
   "id": "d83f7443-2aa4-4636-a08b-20cffdb2a336",
   "metadata": {},
   "outputs": [
    {
     "data": {
      "text/plain": [
       "[Row(name='harsh', age='20', experience='5'),\n",
       " Row(name='krish', age='30', experience='10'),\n",
       " Row(name='naya ladka', age='10', experience='2')]"
      ]
     },
     "execution_count": 38,
     "metadata": {},
     "output_type": "execute_result"
    }
   ],
   "source": [
    "df_pyspark.head(3)"
   ]
  },
  {
   "cell_type": "code",
   "execution_count": 43,
   "id": "24940ec4-8ee1-4d76-82ec-6c9728f2ff98",
   "metadata": {},
   "outputs": [
    {
     "name": "stdout",
     "output_type": "stream",
     "text": [
      "root\n",
      " |-- name: string (nullable = true)\n",
      " |-- age: integer (nullable = true)\n",
      " |-- experience: integer (nullable = true)\n",
      "\n"
     ]
    }
   ],
   "source": [
    "df_pyspark.printSchema()"
   ]
  },
  {
   "cell_type": "code",
   "execution_count": 46,
   "id": "941eac28-6486-439d-b554-f8f88799830b",
   "metadata": {},
   "outputs": [],
   "source": [
    "##E easy way to read csv file\n",
    "df_pyspark = spark.read.csv('test1.csv',header=True,inferSchema=True)"
   ]
  },
  {
   "cell_type": "code",
   "execution_count": 47,
   "id": "f391adee-45de-4e41-adfc-766071a40949",
   "metadata": {},
   "outputs": [
    {
     "name": "stdout",
     "output_type": "stream",
     "text": [
      "root\n",
      " |-- name: string (nullable = true)\n",
      " |-- age: integer (nullable = true)\n",
      " |-- experience: integer (nullable = true)\n",
      "\n"
     ]
    }
   ],
   "source": [
    "df_pyspark.printSchema()"
   ]
  },
  {
   "cell_type": "code",
   "execution_count": 49,
   "id": "77345501-1eed-4718-a838-406589d202dc",
   "metadata": {},
   "outputs": [
    {
     "data": {
      "text/plain": [
       "['name', 'age', 'experience']"
      ]
     },
     "execution_count": 49,
     "metadata": {},
     "output_type": "execute_result"
    }
   ],
   "source": [
    "df_pyspark.columns"
   ]
  },
  {
   "cell_type": "code",
   "execution_count": 50,
   "id": "23123b3a-d378-4002-abd3-1ef182239e21",
   "metadata": {},
   "outputs": [
    {
     "data": {
      "text/plain": [
       "DataFrame[Name: string]"
      ]
     },
     "execution_count": 50,
     "metadata": {},
     "output_type": "execute_result"
    }
   ],
   "source": [
    "df_pyspark.select('Name')"
   ]
  },
  {
   "cell_type": "code",
   "execution_count": 51,
   "id": "a336f4f6-2481-4eee-a72c-627271766ade",
   "metadata": {},
   "outputs": [
    {
     "name": "stdout",
     "output_type": "stream",
     "text": [
      "+----------+\n",
      "|      Name|\n",
      "+----------+\n",
      "|     harsh|\n",
      "|     krish|\n",
      "|naya ladka|\n",
      "+----------+\n",
      "\n"
     ]
    }
   ],
   "source": [
    "df_pyspark.select('Name').show()"
   ]
  },
  {
   "cell_type": "code",
   "execution_count": 53,
   "id": "5ba3c53d-0b3a-4015-b8ec-3e3e18d1507a",
   "metadata": {},
   "outputs": [
    {
     "name": "stdout",
     "output_type": "stream",
     "text": [
      "+----------+----------+\n",
      "|      Name|Experience|\n",
      "+----------+----------+\n",
      "|     harsh|         5|\n",
      "|     krish|        10|\n",
      "|naya ladka|         2|\n",
      "+----------+----------+\n",
      "\n"
     ]
    }
   ],
   "source": [
    "df_pyspark.select(['Name','Experience']).show()"
   ]
  },
  {
   "cell_type": "code",
   "execution_count": 54,
   "id": "bd8c0605-8c51-45ca-901c-773d68fba7c1",
   "metadata": {},
   "outputs": [],
   "source": [
    "### slicing doesnt work in pyspark"
   ]
  },
  {
   "cell_type": "code",
   "execution_count": 56,
   "id": "52c9639d-2404-4677-b695-77bc952ba415",
   "metadata": {},
   "outputs": [
    {
     "data": {
      "text/plain": [
       "Column<'Name'>"
      ]
     },
     "execution_count": 56,
     "metadata": {},
     "output_type": "execute_result"
    }
   ],
   "source": [
    "df_pyspark['Name']\n",
    "### use select function as shown before and not this"
   ]
  },
  {
   "cell_type": "code",
   "execution_count": 59,
   "id": "7ca0208c-38de-4830-9737-80c07008c21a",
   "metadata": {},
   "outputs": [
    {
     "data": {
      "text/plain": [
       "[('name', 'string'), ('age', 'int'), ('experience', 'int')]"
      ]
     },
     "execution_count": 59,
     "metadata": {},
     "output_type": "execute_result"
    }
   ],
   "source": [
    "df_pyspark.dtypes"
   ]
  },
  {
   "cell_type": "code",
   "execution_count": 60,
   "id": "8fedb254-55ba-4d4e-a03c-d3cda1b56370",
   "metadata": {},
   "outputs": [
    {
     "data": {
      "text/plain": [
       "DataFrame[summary: string, name: string, age: string, experience: string]"
      ]
     },
     "execution_count": 60,
     "metadata": {},
     "output_type": "execute_result"
    }
   ],
   "source": [
    "df_pyspark.describe()"
   ]
  },
  {
   "cell_type": "code",
   "execution_count": 61,
   "id": "47e1ce04-3770-4b7d-a48b-3c92493706f2",
   "metadata": {},
   "outputs": [
    {
     "name": "stdout",
     "output_type": "stream",
     "text": [
      "+-------+----------+----+-----------------+\n",
      "|summary|      name| age|       experience|\n",
      "+-------+----------+----+-----------------+\n",
      "|  count|         3|   3|                3|\n",
      "|   mean|      NULL|20.0|5.666666666666667|\n",
      "| stddev|      NULL|10.0|4.041451884327381|\n",
      "|    min|     harsh|  10|                2|\n",
      "|    max|naya ladka|  30|               10|\n",
      "+-------+----------+----+-----------------+\n",
      "\n"
     ]
    }
   ],
   "source": [
    "df_pyspark.describe().show()"
   ]
  },
  {
   "cell_type": "code",
   "execution_count": 62,
   "id": "22e89694-e2f0-43b2-b87d-8273f0c9e2ab",
   "metadata": {},
   "outputs": [
    {
     "name": "stdout",
     "output_type": "stream",
     "text": [
      "+----------+---+----------+------------------------+\n",
      "|      name|age|experience|Experience After 2 Years|\n",
      "+----------+---+----------+------------------------+\n",
      "|     harsh| 20|         5|                       7|\n",
      "|     krish| 30|        10|                      12|\n",
      "|naya ladka| 10|         2|                       4|\n",
      "+----------+---+----------+------------------------+\n",
      "\n"
     ]
    }
   ],
   "source": [
    "df_pyspark.withColumn('Experience After 2 Years',df_pyspark['experience']+2).show()"
   ]
  },
  {
   "cell_type": "code",
   "execution_count": 63,
   "id": "0549fe0c-095a-4647-8a0b-c2e9bf148dd2",
   "metadata": {},
   "outputs": [],
   "source": [
    "df_pyspark = df_pyspark.withColumn('Experience After 2 Years',df_pyspark['experience']+2)"
   ]
  },
  {
   "cell_type": "code",
   "execution_count": 65,
   "id": "3a3a7a7c-b817-4f61-bfcb-36fa26839957",
   "metadata": {},
   "outputs": [
    {
     "name": "stdout",
     "output_type": "stream",
     "text": [
      "+----------+---+----------+------------------------+\n",
      "|      name|age|experience|Experience After 2 Years|\n",
      "+----------+---+----------+------------------------+\n",
      "|     harsh| 20|         5|                       7|\n",
      "|     krish| 30|        10|                      12|\n",
      "|naya ladka| 10|         2|                       4|\n",
      "+----------+---+----------+------------------------+\n",
      "\n"
     ]
    }
   ],
   "source": [
    "df_pyspark.show()"
   ]
  },
  {
   "cell_type": "code",
   "execution_count": 66,
   "id": "55185a7c-7b3c-4d43-9601-7c34792f6627",
   "metadata": {},
   "outputs": [
    {
     "name": "stdout",
     "output_type": "stream",
     "text": [
      "+----------+---+----------+\n",
      "|      name|age|experience|\n",
      "+----------+---+----------+\n",
      "|     harsh| 20|         5|\n",
      "|     krish| 30|        10|\n",
      "|naya ladka| 10|         2|\n",
      "+----------+---+----------+\n",
      "\n"
     ]
    }
   ],
   "source": [
    "df_pyspark.drop('Experience After 2 Years').show()"
   ]
  },
  {
   "cell_type": "code",
   "execution_count": 67,
   "id": "deee839a-f0ee-4254-adc7-24ba1129ec34",
   "metadata": {},
   "outputs": [],
   "source": [
    "df_pyspark = df_pyspark.drop('Experience After 2 Years')"
   ]
  },
  {
   "cell_type": "code",
   "execution_count": 68,
   "id": "bbcdc0df-f6cd-4c71-8ff2-d2de06b299a8",
   "metadata": {},
   "outputs": [
    {
     "name": "stdout",
     "output_type": "stream",
     "text": [
      "+----------+---+----------+\n",
      "|      name|age|experience|\n",
      "+----------+---+----------+\n",
      "|     harsh| 20|         5|\n",
      "|     krish| 30|        10|\n",
      "|naya ladka| 10|         2|\n",
      "+----------+---+----------+\n",
      "\n"
     ]
    }
   ],
   "source": [
    "df_pyspark.show()"
   ]
  },
  {
   "cell_type": "code",
   "execution_count": 69,
   "id": "35427f6b-f62d-4a8d-ab3b-938a659048a0",
   "metadata": {},
   "outputs": [
    {
     "name": "stdout",
     "output_type": "stream",
     "text": [
      "+----------+---+----------+\n",
      "|  New Name|age|experience|\n",
      "+----------+---+----------+\n",
      "|     harsh| 20|         5|\n",
      "|     krish| 30|        10|\n",
      "|naya ladka| 10|         2|\n",
      "+----------+---+----------+\n",
      "\n"
     ]
    }
   ],
   "source": [
    "df_pyspark.withColumnRenamed('Name','New Name').show()"
   ]
  },
  {
   "cell_type": "code",
   "execution_count": null,
   "id": "5eb86685-22bb-41cb-af16-5394bd88e7e5",
   "metadata": {},
   "outputs": [],
   "source": []
  }
 ],
 "metadata": {
  "kernelspec": {
   "display_name": "pysparkenv",
   "language": "python",
   "name": "pysparkenv"
  },
  "language_info": {
   "codemirror_mode": {
    "name": "ipython",
    "version": 3
   },
   "file_extension": ".py",
   "mimetype": "text/x-python",
   "name": "python",
   "nbconvert_exporter": "python",
   "pygments_lexer": "ipython3",
   "version": "3.12.3"
  }
 },
 "nbformat": 4,
 "nbformat_minor": 5
}

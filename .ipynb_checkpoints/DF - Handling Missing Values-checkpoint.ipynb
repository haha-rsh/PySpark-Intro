{
 "cells": [
  {
   "cell_type": "code",
   "execution_count": 3,
   "id": "8a31d24e-999a-4fca-b965-cfc3cf25f6b9",
   "metadata": {},
   "outputs": [],
   "source": [
    "from pyspark.sql import SparkSession"
   ]
  },
  {
   "cell_type": "code",
   "execution_count": 4,
   "id": "f268a44e-2feb-477a-aabb-c387fce7c57e",
   "metadata": {},
   "outputs": [],
   "source": [
    "spark = SparkSession.builder.appName('Practice').getOrCreate()"
   ]
  },
  {
   "cell_type": "code",
   "execution_count": 5,
   "id": "76521d61-0197-49c2-b740-1a18cb308590",
   "metadata": {},
   "outputs": [
    {
     "data": {
      "text/html": [
       "\n",
       "            <div>\n",
       "                <p><b>SparkSession - in-memory</b></p>\n",
       "                \n",
       "        <div>\n",
       "            <p><b>SparkContext</b></p>\n",
       "\n",
       "            <p><a href=\"http://192.168.1.17:4040\">Spark UI</a></p>\n",
       "\n",
       "            <dl>\n",
       "              <dt>Version</dt>\n",
       "                <dd><code>v3.5.1</code></dd>\n",
       "              <dt>Master</dt>\n",
       "                <dd><code>local[*]</code></dd>\n",
       "              <dt>AppName</dt>\n",
       "                <dd><code>Practice</code></dd>\n",
       "            </dl>\n",
       "        </div>\n",
       "        \n",
       "            </div>\n",
       "        "
      ],
      "text/plain": [
       "<pyspark.sql.session.SparkSession at 0x226846535c0>"
      ]
     },
     "execution_count": 5,
     "metadata": {},
     "output_type": "execute_result"
    }
   ],
   "source": [
    "spark"
   ]
  },
  {
   "cell_type": "code",
   "execution_count": 7,
   "id": "7db6f950-1b16-49e3-85a3-797f1516e3b8",
   "metadata": {},
   "outputs": [],
   "source": [
    "df_pyspark = spark.read.csv('test2.csv',header = True, inferSchema=True)"
   ]
  },
  {
   "cell_type": "code",
   "execution_count": 8,
   "id": "3d0462b6-eb64-48f8-a20d-c74df754f884",
   "metadata": {},
   "outputs": [
    {
     "name": "stdout",
     "output_type": "stream",
     "text": [
      "+------------+----+----------+------+\n",
      "|        Name| Age|Experience|Salary|\n",
      "+------------+----+----------+------+\n",
      "|       harsh|  20|         5| 30000|\n",
      "|       krish|  30|        10| 25000|\n",
      "|  naya ladka|  10|         2| 20000|\n",
      "|purana ladka|  40|        15| 15000|\n",
      "|  paul allen|  35|        10| 20000|\n",
      "|        saul|  45|        20| 40000|\n",
      "|         cri|NULL|      NULL| 12000|\n",
      "|        NULL|  34|         6| 35000|\n",
      "|        NULL|  37|      NULL|  NULL|\n",
      "+------------+----+----------+------+\n",
      "\n"
     ]
    }
   ],
   "source": [
    "df_pyspark.show()"
   ]
  },
  {
   "cell_type": "code",
   "execution_count": 9,
   "id": "ed448721-8419-4374-9829-3ae76b0c872b",
   "metadata": {},
   "outputs": [
    {
     "name": "stdout",
     "output_type": "stream",
     "text": [
      "+----+----------+------+\n",
      "| Age|Experience|Salary|\n",
      "+----+----------+------+\n",
      "|  20|         5| 30000|\n",
      "|  30|        10| 25000|\n",
      "|  10|         2| 20000|\n",
      "|  40|        15| 15000|\n",
      "|  35|        10| 20000|\n",
      "|  45|        20| 40000|\n",
      "|NULL|      NULL| 12000|\n",
      "|  34|         6| 35000|\n",
      "|  37|      NULL|  NULL|\n",
      "+----+----------+------+\n",
      "\n"
     ]
    }
   ],
   "source": [
    "## dropping columns\n",
    "df_pyspark.drop('Name').show()"
   ]
  },
  {
   "cell_type": "code",
   "execution_count": 10,
   "id": "cc68f47a-a5c7-4789-92ae-cc712e441e66",
   "metadata": {},
   "outputs": [
    {
     "name": "stdout",
     "output_type": "stream",
     "text": [
      "+------------+----+----------+------+\n",
      "|        Name| Age|Experience|Salary|\n",
      "+------------+----+----------+------+\n",
      "|       harsh|  20|         5| 30000|\n",
      "|       krish|  30|        10| 25000|\n",
      "|  naya ladka|  10|         2| 20000|\n",
      "|purana ladka|  40|        15| 15000|\n",
      "|  paul allen|  35|        10| 20000|\n",
      "|        saul|  45|        20| 40000|\n",
      "|         cri|NULL|      NULL| 12000|\n",
      "|        NULL|  34|         6| 35000|\n",
      "|        NULL|  37|      NULL|  NULL|\n",
      "+------------+----+----------+------+\n",
      "\n"
     ]
    }
   ],
   "source": [
    "df_pyspark.show()"
   ]
  },
  {
   "cell_type": "code",
   "execution_count": 11,
   "id": "89b23651-24fc-42a2-908d-a93804aaac4c",
   "metadata": {},
   "outputs": [
    {
     "name": "stdout",
     "output_type": "stream",
     "text": [
      "+------------+---+----------+------+\n",
      "|        Name|Age|Experience|Salary|\n",
      "+------------+---+----------+------+\n",
      "|       harsh| 20|         5| 30000|\n",
      "|       krish| 30|        10| 25000|\n",
      "|  naya ladka| 10|         2| 20000|\n",
      "|purana ladka| 40|        15| 15000|\n",
      "|  paul allen| 35|        10| 20000|\n",
      "|        saul| 45|        20| 40000|\n",
      "+------------+---+----------+------+\n",
      "\n"
     ]
    }
   ],
   "source": [
    "df_pyspark.na.drop().show()"
   ]
  },
  {
   "cell_type": "code",
   "execution_count": 12,
   "id": "2fb9f2c4-1b43-4b65-aac3-ba1b7c549bd3",
   "metadata": {},
   "outputs": [
    {
     "name": "stdout",
     "output_type": "stream",
     "text": [
      "+------------+---+----------+------+\n",
      "|        Name|Age|Experience|Salary|\n",
      "+------------+---+----------+------+\n",
      "|       harsh| 20|         5| 30000|\n",
      "|       krish| 30|        10| 25000|\n",
      "|  naya ladka| 10|         2| 20000|\n",
      "|purana ladka| 40|        15| 15000|\n",
      "|  paul allen| 35|        10| 20000|\n",
      "|        saul| 45|        20| 40000|\n",
      "+------------+---+----------+------+\n",
      "\n"
     ]
    }
   ],
   "source": [
    "df_pyspark.na.drop(how='any').show()"
   ]
  },
  {
   "cell_type": "code",
   "execution_count": 15,
   "id": "1d0ea8c8-31b4-474c-b08c-8d2ff0fa2137",
   "metadata": {},
   "outputs": [
    {
     "name": "stdout",
     "output_type": "stream",
     "text": [
      "+------------+----+----------+------+\n",
      "|        Name| Age|Experience|Salary|\n",
      "+------------+----+----------+------+\n",
      "|       harsh|  20|         5| 30000|\n",
      "|       krish|  30|        10| 25000|\n",
      "|  naya ladka|  10|         2| 20000|\n",
      "|purana ladka|  40|        15| 15000|\n",
      "|  paul allen|  35|        10| 20000|\n",
      "|        saul|  45|        20| 40000|\n",
      "|         cri|NULL|      NULL| 12000|\n",
      "|        NULL|  34|         6| 35000|\n",
      "+------------+----+----------+------+\n",
      "\n"
     ]
    }
   ],
   "source": [
    "df_pyspark.na.drop(how='any',thresh=2).show()"
   ]
  },
  {
   "cell_type": "code",
   "execution_count": 17,
   "id": "63a73b2c-1b8d-48c7-992f-f17e32411de4",
   "metadata": {},
   "outputs": [
    {
     "name": "stdout",
     "output_type": "stream",
     "text": [
      "+------------+---+----------+------+\n",
      "|        Name|Age|Experience|Salary|\n",
      "+------------+---+----------+------+\n",
      "|       harsh| 20|         5| 30000|\n",
      "|       krish| 30|        10| 25000|\n",
      "|  naya ladka| 10|         2| 20000|\n",
      "|purana ladka| 40|        15| 15000|\n",
      "|  paul allen| 35|        10| 20000|\n",
      "|        saul| 45|        20| 40000|\n",
      "|        NULL| 34|         6| 35000|\n",
      "|        NULL| 37|      NULL|  NULL|\n",
      "+------------+---+----------+------+\n",
      "\n"
     ]
    }
   ],
   "source": [
    "df_pyspark.na.drop(how='any',subset='Age').show()"
   ]
  },
  {
   "cell_type": "code",
   "execution_count": 26,
   "id": "cd3b1991-f185-4737-bdf1-7430341b1200",
   "metadata": {},
   "outputs": [
    {
     "name": "stdout",
     "output_type": "stream",
     "text": [
      "+-------------+---+----------+------+\n",
      "|         Name|Age|Experience|Salary|\n",
      "+-------------+---+----------+------+\n",
      "|        harsh| 20|         5| 30000|\n",
      "|        krish| 30|        10| 25000|\n",
      "|   naya ladka| 10|         2| 20000|\n",
      "| purana ladka| 40|        15| 15000|\n",
      "|   paul allen| 35|        10| 20000|\n",
      "|         saul| 45|        20| 40000|\n",
      "|          cri|  0|         0| 12000|\n",
      "|Missing Names| 34|         6| 35000|\n",
      "|Missing Names| 37|         0|     0|\n",
      "+-------------+---+----------+------+\n",
      "\n"
     ]
    }
   ],
   "source": [
    "df_pyspark.na.fill({'Name':'Missing Names', \n",
    "                    'Age':0,\n",
    "                    'Experience':0,\n",
    "                    'Salary':0}).show()"
   ]
  },
  {
   "cell_type": "code",
   "execution_count": 30,
   "id": "dc4d9cd1-4c5a-4315-b967-2612ae624386",
   "metadata": {},
   "outputs": [
    {
     "name": "stdout",
     "output_type": "stream",
     "text": [
      "+--------------+----+----------+------+\n",
      "|          Name| Age|Experience|Salary|\n",
      "+--------------+----+----------+------+\n",
      "|         harsh|  20|         5| 30000|\n",
      "|         krish|  30|        10| 25000|\n",
      "|    naya ladka|  10|         2| 20000|\n",
      "|  purana ladka|  40|        15| 15000|\n",
      "|    paul allen|  35|        10| 20000|\n",
      "|          saul|  45|        20| 40000|\n",
      "|           cri|NULL|      NULL| 12000|\n",
      "|Missing Values|  34|         6| 35000|\n",
      "|Missing Values|  37|      NULL|  NULL|\n",
      "+--------------+----+----------+------+\n",
      "\n"
     ]
    }
   ],
   "source": [
    "df_pyspark.na.fill('Missing Values','Name').show()"
   ]
  },
  {
   "cell_type": "code",
   "execution_count": 31,
   "id": "aa12b9d5-362a-47bc-928d-040eedc8680b",
   "metadata": {},
   "outputs": [
    {
     "name": "stdout",
     "output_type": "stream",
     "text": [
      "+------------+----+----------+------+\n",
      "|        Name| Age|Experience|Salary|\n",
      "+------------+----+----------+------+\n",
      "|       harsh|  20|         5| 30000|\n",
      "|       krish|  30|        10| 25000|\n",
      "|  naya ladka|  10|         2| 20000|\n",
      "|purana ladka|  40|        15| 15000|\n",
      "|  paul allen|  35|        10| 20000|\n",
      "|        saul|  45|        20| 40000|\n",
      "|         cri|NULL|         0| 12000|\n",
      "|        NULL|  34|         6| 35000|\n",
      "|        NULL|  37|         0|  NULL|\n",
      "+------------+----+----------+------+\n",
      "\n"
     ]
    }
   ],
   "source": [
    "df_pyspark.na.fill(0,'Experience').show()"
   ]
  },
  {
   "cell_type": "code",
   "execution_count": 32,
   "id": "620205de-ff2d-46c0-aa20-22f076e5d6d6",
   "metadata": {},
   "outputs": [
    {
     "name": "stdout",
     "output_type": "stream",
     "text": [
      "+------------+----+----------+------+\n",
      "|        Name| Age|Experience|Salary|\n",
      "+------------+----+----------+------+\n",
      "|       harsh|  20|         5| 30000|\n",
      "|       krish|  30|        10| 25000|\n",
      "|  naya ladka|  10|         2| 20000|\n",
      "|purana ladka|  40|        15| 15000|\n",
      "|  paul allen|  35|        10| 20000|\n",
      "|        saul|  45|        20| 40000|\n",
      "|         cri|NULL|      NULL| 12000|\n",
      "|        NULL|  34|         6| 35000|\n",
      "|        NULL|  37|      NULL|  NULL|\n",
      "+------------+----+----------+------+\n",
      "\n"
     ]
    }
   ],
   "source": [
    "df_pyspark.show()"
   ]
  },
  {
   "cell_type": "code",
   "execution_count": 35,
   "id": "4e864ae6-2efc-4795-bfbe-274de4ce544b",
   "metadata": {},
   "outputs": [],
   "source": [
    "from pyspark.ml.feature import Imputer\n",
    "\n",
    "imputer = Imputer(\n",
    "    inputCols = ['Age','Experience','Salary'],\n",
    "    outputCols = ['{}_imputed'.format(c) for c in ['Age','Experience','Salary']]\n",
    "    ).setStrategy('mean')"
   ]
  },
  {
   "cell_type": "code",
   "execution_count": 36,
   "id": "212099bb-fc25-4ef6-b022-3ba759379748",
   "metadata": {},
   "outputs": [
    {
     "name": "stdout",
     "output_type": "stream",
     "text": [
      "+------------+----+----------+------+-----------+------------------+--------------+\n",
      "|        Name| Age|Experience|Salary|Age_imputed|Experience_imputed|Salary_imputed|\n",
      "+------------+----+----------+------+-----------+------------------+--------------+\n",
      "|       harsh|  20|         5| 30000|         20|                 5|         30000|\n",
      "|       krish|  30|        10| 25000|         30|                10|         25000|\n",
      "|  naya ladka|  10|         2| 20000|         10|                 2|         20000|\n",
      "|purana ladka|  40|        15| 15000|         40|                15|         15000|\n",
      "|  paul allen|  35|        10| 20000|         35|                10|         20000|\n",
      "|        saul|  45|        20| 40000|         45|                20|         40000|\n",
      "|         cri|NULL|      NULL| 12000|         31|                 9|         12000|\n",
      "|        NULL|  34|         6| 35000|         34|                 6|         35000|\n",
      "|        NULL|  37|      NULL|  NULL|         37|                 9|         24625|\n",
      "+------------+----+----------+------+-----------+------------------+--------------+\n",
      "\n"
     ]
    }
   ],
   "source": [
    "imputer.fit(df_pyspark).transform(df_pyspark).show()"
   ]
  }
 ],
 "metadata": {
  "kernelspec": {
   "display_name": "pysparkenv",
   "language": "python",
   "name": "pysparkenv"
  },
  "language_info": {
   "codemirror_mode": {
    "name": "ipython",
    "version": 3
   },
   "file_extension": ".py",
   "mimetype": "text/x-python",
   "name": "python",
   "nbconvert_exporter": "python",
   "pygments_lexer": "ipython3",
   "version": "3.12.3"
  }
 },
 "nbformat": 4,
 "nbformat_minor": 5
}

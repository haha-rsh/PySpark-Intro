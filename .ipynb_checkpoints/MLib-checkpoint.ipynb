{
 "cells": [
  {
   "cell_type": "code",
   "execution_count": 2,
   "id": "b822c470-ce5f-4f84-b9ab-92f36ef1178a",
   "metadata": {},
   "outputs": [],
   "source": [
    "from pyspark.sql import SparkSession"
   ]
  },
  {
   "cell_type": "code",
   "execution_count": 3,
   "id": "95b05fb7-2022-4a8a-b64c-93c62b094916",
   "metadata": {},
   "outputs": [],
   "source": [
    "spark = SparkSession.builder.appName('MLib').getOrCreate()"
   ]
  },
  {
   "cell_type": "code",
   "execution_count": 4,
   "id": "497c36d1-c29b-4cab-8a96-a11ce0741e6c",
   "metadata": {},
   "outputs": [
    {
     "data": {
      "text/html": [
       "\n",
       "            <div>\n",
       "                <p><b>SparkSession - in-memory</b></p>\n",
       "                \n",
       "        <div>\n",
       "            <p><b>SparkContext</b></p>\n",
       "\n",
       "            <p><a href=\"http://192.168.1.17:4040\">Spark UI</a></p>\n",
       "\n",
       "            <dl>\n",
       "              <dt>Version</dt>\n",
       "                <dd><code>v3.5.1</code></dd>\n",
       "              <dt>Master</dt>\n",
       "                <dd><code>local[*]</code></dd>\n",
       "              <dt>AppName</dt>\n",
       "                <dd><code>MLib</code></dd>\n",
       "            </dl>\n",
       "        </div>\n",
       "        \n",
       "            </div>\n",
       "        "
      ],
      "text/plain": [
       "<pyspark.sql.session.SparkSession at 0x22b101f2150>"
      ]
     },
     "execution_count": 4,
     "metadata": {},
     "output_type": "execute_result"
    }
   ],
   "source": [
    "spark"
   ]
  },
  {
   "cell_type": "code",
   "execution_count": 6,
   "id": "a1f0ef4d-5a94-4dff-97b3-7d7f01f7dde2",
   "metadata": {},
   "outputs": [],
   "source": [
    "training = spark.read.csv('test3.csv',header=True,inferSchema=True)"
   ]
  },
  {
   "cell_type": "code",
   "execution_count": 7,
   "id": "17e75b6b-159c-4a68-ae0a-2ae211af96e0",
   "metadata": {},
   "outputs": [
    {
     "name": "stdout",
     "output_type": "stream",
     "text": [
      "+------------+---+----------+------+\n",
      "|        Name|Age|Experience|Salary|\n",
      "+------------+---+----------+------+\n",
      "|       harsh| 20|         5| 30000|\n",
      "|       krish| 30|        10| 25000|\n",
      "|  naya ladka| 10|         2| 20000|\n",
      "|purana ladka| 40|        15| 15000|\n",
      "|  paul allen| 35|        10| 20000|\n",
      "|        saul| 45|        20| 40000|\n",
      "+------------+---+----------+------+\n",
      "\n"
     ]
    }
   ],
   "source": [
    "training.show()"
   ]
  },
  {
   "cell_type": "code",
   "execution_count": 8,
   "id": "6f0b9d78-e3e4-4b14-83c5-762b3bbd6561",
   "metadata": {},
   "outputs": [
    {
     "name": "stdout",
     "output_type": "stream",
     "text": [
      "root\n",
      " |-- Name: string (nullable = true)\n",
      " |-- Age: integer (nullable = true)\n",
      " |-- Experience: integer (nullable = true)\n",
      " |-- Salary: integer (nullable = true)\n",
      "\n"
     ]
    }
   ],
   "source": [
    "training.printSchema()"
   ]
  },
  {
   "cell_type": "code",
   "execution_count": 9,
   "id": "2813b9c9-599d-49f9-a968-1ec734b6b1fd",
   "metadata": {},
   "outputs": [
    {
     "data": {
      "text/plain": [
       "['Name', 'Age', 'Experience', 'Salary']"
      ]
     },
     "execution_count": 9,
     "metadata": {},
     "output_type": "execute_result"
    }
   ],
   "source": [
    "training.columns"
   ]
  },
  {
   "cell_type": "code",
   "execution_count": 10,
   "id": "0a223d09-f225-44fd-8179-f702a43d2d59",
   "metadata": {},
   "outputs": [],
   "source": [
    "from pyspark.ml.feature import VectorAssembler"
   ]
  },
  {
   "cell_type": "code",
   "execution_count": 11,
   "id": "5f14720f-1be6-47ab-9e51-6f0fe199b554",
   "metadata": {},
   "outputs": [],
   "source": [
    "featureassembler = VectorAssembler(inputCols=['Age','Experience'], outputCol='Independent Features')"
   ]
  },
  {
   "cell_type": "code",
   "execution_count": 12,
   "id": "5c8d6a9c-fa98-4be5-94d6-33375f570a83",
   "metadata": {},
   "outputs": [],
   "source": [
    "output = featureassembler.transform(training)"
   ]
  },
  {
   "cell_type": "code",
   "execution_count": 13,
   "id": "5acc6303-7b3f-4283-9def-753ac6d1c7a1",
   "metadata": {},
   "outputs": [
    {
     "name": "stdout",
     "output_type": "stream",
     "text": [
      "+------------+---+----------+------+--------------------+\n",
      "|        Name|Age|Experience|Salary|Independent Features|\n",
      "+------------+---+----------+------+--------------------+\n",
      "|       harsh| 20|         5| 30000|          [20.0,5.0]|\n",
      "|       krish| 30|        10| 25000|         [30.0,10.0]|\n",
      "|  naya ladka| 10|         2| 20000|          [10.0,2.0]|\n",
      "|purana ladka| 40|        15| 15000|         [40.0,15.0]|\n",
      "|  paul allen| 35|        10| 20000|         [35.0,10.0]|\n",
      "|        saul| 45|        20| 40000|         [45.0,20.0]|\n",
      "+------------+---+----------+------+--------------------+\n",
      "\n"
     ]
    }
   ],
   "source": [
    "output.show()"
   ]
  },
  {
   "cell_type": "code",
   "execution_count": 14,
   "id": "4f0470b9-e26e-4169-b9fd-5f07cb589c74",
   "metadata": {},
   "outputs": [
    {
     "data": {
      "text/plain": [
       "['Name', 'Age', 'Experience', 'Salary', 'Independent Features']"
      ]
     },
     "execution_count": 14,
     "metadata": {},
     "output_type": "execute_result"
    }
   ],
   "source": [
    "output.columns"
   ]
  },
  {
   "cell_type": "code",
   "execution_count": 15,
   "id": "603c7c93-083b-4812-814d-cc28af25bfa6",
   "metadata": {},
   "outputs": [],
   "source": [
    "finalized_data = output.select('Independent Features','Salary')"
   ]
  },
  {
   "cell_type": "code",
   "execution_count": 18,
   "id": "171b1467-e75c-4d95-a173-5f2ccf799bd1",
   "metadata": {},
   "outputs": [
    {
     "name": "stdout",
     "output_type": "stream",
     "text": [
      "+--------------------+------+\n",
      "|Independent Features|Salary|\n",
      "+--------------------+------+\n",
      "|          [20.0,5.0]| 30000|\n",
      "|         [30.0,10.0]| 25000|\n",
      "|          [10.0,2.0]| 20000|\n",
      "|         [40.0,15.0]| 15000|\n",
      "|         [35.0,10.0]| 20000|\n",
      "|         [45.0,20.0]| 40000|\n",
      "+--------------------+------+\n",
      "\n"
     ]
    }
   ],
   "source": [
    "finalized_data.show()"
   ]
  },
  {
   "cell_type": "code",
   "execution_count": 19,
   "id": "0a85db75-6c21-441a-9f0e-26b8b73eeb77",
   "metadata": {},
   "outputs": [],
   "source": [
    "from pyspark.ml.regression import LinearRegression"
   ]
  },
  {
   "cell_type": "code",
   "execution_count": 74,
   "id": "8f89dfcd-eacc-49c9-af9f-06555bd1b33c",
   "metadata": {},
   "outputs": [],
   "source": [
    "train_data, test_data = finalized_data.randomSplit([0.75,0.25])"
   ]
  },
  {
   "cell_type": "code",
   "execution_count": 75,
   "id": "5f5fae02-a499-4026-8c3c-b13002154e2b",
   "metadata": {},
   "outputs": [],
   "source": [
    "regressor = LinearRegression(featuresCol='Independent Features', labelCol='Salary')"
   ]
  },
  {
   "cell_type": "code",
   "execution_count": 76,
   "id": "e00ef486-0dd1-478a-b003-87b22d1c50fa",
   "metadata": {},
   "outputs": [],
   "source": [
    "regressor = regressor.fit(train_data)"
   ]
  },
  {
   "cell_type": "code",
   "execution_count": 77,
   "id": "04cf95a7-ad6a-4980-be0b-1c556d3c5293",
   "metadata": {},
   "outputs": [
    {
     "data": {
      "text/plain": [
       "DenseVector([5250.0, -12500.0])"
      ]
     },
     "execution_count": 77,
     "metadata": {},
     "output_type": "execute_result"
    }
   ],
   "source": [
    "regressor.coefficients"
   ]
  },
  {
   "cell_type": "code",
   "execution_count": 78,
   "id": "f7ada969-8a9f-44c2-9848-9245f22ad9c4",
   "metadata": {},
   "outputs": [
    {
     "data": {
      "text/plain": [
       "-7500.000000001041"
      ]
     },
     "execution_count": 78,
     "metadata": {},
     "output_type": "execute_result"
    }
   ],
   "source": [
    "regressor.intercept"
   ]
  },
  {
   "cell_type": "code",
   "execution_count": 79,
   "id": "733ff963-8397-4e67-bcfe-09649de4fb66",
   "metadata": {},
   "outputs": [],
   "source": [
    "pred_results = regressor.evaluate(test_data)"
   ]
  },
  {
   "cell_type": "code",
   "execution_count": 80,
   "id": "3b784a46-f621-4b7b-a905-6f46568733b4",
   "metadata": {},
   "outputs": [
    {
     "name": "stdout",
     "output_type": "stream",
     "text": [
      "+--------------------+------+-------------------+\n",
      "|Independent Features|Salary|         prediction|\n",
      "+--------------------+------+-------------------+\n",
      "|          [20.0,5.0]| 30000| 35000.000000000546|\n",
      "|         [35.0,10.0]| 20000| 51250.000000001164|\n",
      "|         [45.0,20.0]| 40000|-21250.000000001462|\n",
      "+--------------------+------+-------------------+\n",
      "\n"
     ]
    }
   ],
   "source": [
    "pred_results.predictions.show()"
   ]
  },
  {
   "cell_type": "code",
   "execution_count": 81,
   "id": "b28d5425-217d-4c2f-8e61-3082376ea565",
   "metadata": {},
   "outputs": [
    {
     "data": {
      "text/plain": [
       "(32500.00000000106, 1584375000.0000858)"
      ]
     },
     "execution_count": 81,
     "metadata": {},
     "output_type": "execute_result"
    }
   ],
   "source": [
    "pred_results.meanAbsoluteError, pred_results.meanSquaredError\n"
   ]
  }
 ],
 "metadata": {
  "kernelspec": {
   "display_name": "pysparkenv",
   "language": "python",
   "name": "pysparkenv"
  },
  "language_info": {
   "codemirror_mode": {
    "name": "ipython",
    "version": 3
   },
   "file_extension": ".py",
   "mimetype": "text/x-python",
   "name": "python",
   "nbconvert_exporter": "python",
   "pygments_lexer": "ipython3",
   "version": "3.12.3"
  }
 },
 "nbformat": 4,
 "nbformat_minor": 5
}

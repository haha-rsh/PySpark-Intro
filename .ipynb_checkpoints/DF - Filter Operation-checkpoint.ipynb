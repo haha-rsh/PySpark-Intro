{
 "cells": [
  {
   "cell_type": "code",
   "execution_count": 1,
   "id": "bafa0b0b-3441-46f9-af7d-9b4e5ec45f54",
   "metadata": {},
   "outputs": [],
   "source": [
    "from pyspark.sql import SparkSession"
   ]
  },
  {
   "cell_type": "code",
   "execution_count": 2,
   "id": "20b625d8-c966-4b74-8633-ac1cd5dcca36",
   "metadata": {},
   "outputs": [],
   "source": [
    "spark = SparkSession.builder.appName('Practice').getOrCreate()"
   ]
  },
  {
   "cell_type": "code",
   "execution_count": 3,
   "id": "2aa33e55-0796-4d22-8a90-f38e957c17d5",
   "metadata": {},
   "outputs": [],
   "source": [
    "df_pyspark = spark.read.csv('test3.csv',header=True,inferSchema=True)"
   ]
  },
  {
   "cell_type": "code",
   "execution_count": 4,
   "id": "fd01ebe2-b79b-4453-86c8-eb6bf4b16bd6",
   "metadata": {},
   "outputs": [
    {
     "name": "stdout",
     "output_type": "stream",
     "text": [
      "+------------+---+----------+------+\n",
      "|        Name|Age|Experience|Salary|\n",
      "+------------+---+----------+------+\n",
      "|       harsh| 20|         5| 30000|\n",
      "|       krish| 30|        10| 25000|\n",
      "|  naya ladka| 10|         2| 20000|\n",
      "|purana ladka| 40|        15| 15000|\n",
      "|  paul allen| 35|        10| 20000|\n",
      "|        saul| 45|        20| 40000|\n",
      "+------------+---+----------+------+\n",
      "\n"
     ]
    }
   ],
   "source": [
    "df_pyspark.show()"
   ]
  },
  {
   "cell_type": "markdown",
   "id": "8354cc02-cff5-49ec-84f9-8594f7934358",
   "metadata": {},
   "source": [
    "## Filter Operations"
   ]
  },
  {
   "cell_type": "code",
   "execution_count": 5,
   "id": "930318d3-9e33-437c-bde2-b909f6a2b45e",
   "metadata": {},
   "outputs": [
    {
     "name": "stdout",
     "output_type": "stream",
     "text": [
      "+------------+---+----------+------+\n",
      "|        Name|Age|Experience|Salary|\n",
      "+------------+---+----------+------+\n",
      "|  naya ladka| 10|         2| 20000|\n",
      "|purana ladka| 40|        15| 15000|\n",
      "|  paul allen| 35|        10| 20000|\n",
      "+------------+---+----------+------+\n",
      "\n"
     ]
    }
   ],
   "source": [
    "df_pyspark.filter('Salary<=20000').show()"
   ]
  },
  {
   "cell_type": "code",
   "execution_count": 6,
   "id": "9fedd9b9-91ab-492f-8472-d7a79ca0bdd9",
   "metadata": {},
   "outputs": [
    {
     "name": "stdout",
     "output_type": "stream",
     "text": [
      "+------------+---+\n",
      "|        Name|Age|\n",
      "+------------+---+\n",
      "|  naya ladka| 10|\n",
      "|purana ladka| 40|\n",
      "|  paul allen| 35|\n",
      "+------------+---+\n",
      "\n"
     ]
    }
   ],
   "source": [
    "df_pyspark.filter('Salary<=20000').select(['Name','Age']).show()"
   ]
  },
  {
   "cell_type": "code",
   "execution_count": 7,
   "id": "c97f0c53-d6af-4dc4-9d58-9a5aea35cae0",
   "metadata": {},
   "outputs": [
    {
     "name": "stdout",
     "output_type": "stream",
     "text": [
      "+------------+---+----------+------+\n",
      "|        Name|Age|Experience|Salary|\n",
      "+------------+---+----------+------+\n",
      "|  naya ladka| 10|         2| 20000|\n",
      "|purana ladka| 40|        15| 15000|\n",
      "|  paul allen| 35|        10| 20000|\n",
      "+------------+---+----------+------+\n",
      "\n"
     ]
    }
   ],
   "source": [
    "df_pyspark.filter(df_pyspark['Salary']<=20000).show()"
   ]
  },
  {
   "cell_type": "code",
   "execution_count": 9,
   "id": "5546046e-cbf1-428c-bb6e-b88efa47a821",
   "metadata": {},
   "outputs": [
    {
     "name": "stdout",
     "output_type": "stream",
     "text": [
      "+----------+---+----------+------+\n",
      "|      Name|Age|Experience|Salary|\n",
      "+----------+---+----------+------+\n",
      "|naya ladka| 10|         2| 20000|\n",
      "|paul allen| 35|        10| 20000|\n",
      "+----------+---+----------+------+\n",
      "\n"
     ]
    }
   ],
   "source": [
    "df_pyspark.filter((df_pyspark['Salary']<=20000) &\n",
    "                  (df_pyspark['Salary']>15000)).show()"
   ]
  },
  {
   "cell_type": "code",
   "execution_count": 10,
   "id": "f1073c38-9893-42c6-8697-fe5c5499ea23",
   "metadata": {},
   "outputs": [
    {
     "name": "stdout",
     "output_type": "stream",
     "text": [
      "+-----+---+----------+------+\n",
      "| Name|Age|Experience|Salary|\n",
      "+-----+---+----------+------+\n",
      "|harsh| 20|         5| 30000|\n",
      "|krish| 30|        10| 25000|\n",
      "| saul| 45|        20| 40000|\n",
      "+-----+---+----------+------+\n",
      "\n"
     ]
    }
   ],
   "source": [
    "df_pyspark.filter(~(df_pyspark['Salary']<=20000)).show()"
   ]
  }
 ],
 "metadata": {
  "kernelspec": {
   "display_name": "pysparkenv",
   "language": "python",
   "name": "pysparkenv"
  },
  "language_info": {
   "codemirror_mode": {
    "name": "ipython",
    "version": 3
   },
   "file_extension": ".py",
   "mimetype": "text/x-python",
   "name": "python",
   "nbconvert_exporter": "python",
   "pygments_lexer": "ipython3",
   "version": "3.12.3"
  }
 },
 "nbformat": 4,
 "nbformat_minor": 5
}
